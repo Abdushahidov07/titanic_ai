{
  "nbformat": 4,
  "nbformat_minor": 0,
  "metadata": {
    "colab": {
      "provenance": []
    },
    "kernelspec": {
      "name": "python3",
      "display_name": "Python 3"
    },
    "language_info": {
      "name": "python"
    }
  },
  "cells": [
    {
      "cell_type": "code",
      "execution_count": null,
      "metadata": {
        "id": "Of0Zwv_EdDaD"
      },
      "outputs": [],
      "source": [
        "import pandas as pd\n",
        "\n",
        "df = pd.read_excel(\"/content/Telco_customer_churn.xlsx\")\n",
        "\n",
        "\n"
      ]
    },
    {
      "cell_type": "code",
      "source": [
        "df.head()"
      ],
      "metadata": {
        "colab": {
          "base_uri": "https://localhost:8080/",
          "height": 340
        },
        "id": "YmG1tUWOQCEA",
        "outputId": "64e738f2-889a-4277-e665-f730edc4580b"
      },
      "execution_count": null,
      "outputs": [
        {
          "output_type": "execute_result",
          "data": {
            "text/plain": [
              "   CustomerID  Count        Country       State         City  Zip Code  \\\n",
              "0  3668-QPYBK      1  United States  California  Los Angeles     90003   \n",
              "1  9237-HQITU      1  United States  California  Los Angeles     90005   \n",
              "2  9305-CDSKC      1  United States  California  Los Angeles     90006   \n",
              "3  7892-POOKP      1  United States  California  Los Angeles     90010   \n",
              "4  0280-XJGEX      1  United States  California  Los Angeles     90015   \n",
              "\n",
              "                 Lat Long   Latitude   Longitude  Gender  ...        Contract  \\\n",
              "0  33.964131, -118.272783  33.964131 -118.272783    Male  ...  Month-to-month   \n",
              "1   34.059281, -118.30742  34.059281 -118.307420  Female  ...  Month-to-month   \n",
              "2  34.048013, -118.293953  34.048013 -118.293953  Female  ...  Month-to-month   \n",
              "3  34.062125, -118.315709  34.062125 -118.315709  Female  ...  Month-to-month   \n",
              "4  34.039224, -118.266293  34.039224 -118.266293    Male  ...  Month-to-month   \n",
              "\n",
              "  Paperless Billing             Payment Method  Monthly Charges Total Charges  \\\n",
              "0               Yes               Mailed check            53.85        108.15   \n",
              "1               Yes           Electronic check            70.70        151.65   \n",
              "2               Yes           Electronic check            99.65         820.5   \n",
              "3               Yes           Electronic check           104.80       3046.05   \n",
              "4               Yes  Bank transfer (automatic)           103.70        5036.3   \n",
              "\n",
              "  Churn Label Churn Value Churn Score  CLTV                   Churn Reason  \n",
              "0         Yes           1          86  3239   Competitor made better offer  \n",
              "1         Yes           1          67  2701                          Moved  \n",
              "2         Yes           1          86  5372                          Moved  \n",
              "3         Yes           1          84  5003                          Moved  \n",
              "4         Yes           1          89  5340  Competitor had better devices  \n",
              "\n",
              "[5 rows x 33 columns]"
            ],
            "text/html": [
              "\n",
              "  <div id=\"df-03edc428-bb7f-4011-9574-dc60e6a622af\" class=\"colab-df-container\">\n",
              "    <div>\n",
              "<style scoped>\n",
              "    .dataframe tbody tr th:only-of-type {\n",
              "        vertical-align: middle;\n",
              "    }\n",
              "\n",
              "    .dataframe tbody tr th {\n",
              "        vertical-align: top;\n",
              "    }\n",
              "\n",
              "    .dataframe thead th {\n",
              "        text-align: right;\n",
              "    }\n",
              "</style>\n",
              "<table border=\"1\" class=\"dataframe\">\n",
              "  <thead>\n",
              "    <tr style=\"text-align: right;\">\n",
              "      <th></th>\n",
              "      <th>CustomerID</th>\n",
              "      <th>Count</th>\n",
              "      <th>Country</th>\n",
              "      <th>State</th>\n",
              "      <th>City</th>\n",
              "      <th>Zip Code</th>\n",
              "      <th>Lat Long</th>\n",
              "      <th>Latitude</th>\n",
              "      <th>Longitude</th>\n",
              "      <th>Gender</th>\n",
              "      <th>...</th>\n",
              "      <th>Contract</th>\n",
              "      <th>Paperless Billing</th>\n",
              "      <th>Payment Method</th>\n",
              "      <th>Monthly Charges</th>\n",
              "      <th>Total Charges</th>\n",
              "      <th>Churn Label</th>\n",
              "      <th>Churn Value</th>\n",
              "      <th>Churn Score</th>\n",
              "      <th>CLTV</th>\n",
              "      <th>Churn Reason</th>\n",
              "    </tr>\n",
              "  </thead>\n",
              "  <tbody>\n",
              "    <tr>\n",
              "      <th>0</th>\n",
              "      <td>3668-QPYBK</td>\n",
              "      <td>1</td>\n",
              "      <td>United States</td>\n",
              "      <td>California</td>\n",
              "      <td>Los Angeles</td>\n",
              "      <td>90003</td>\n",
              "      <td>33.964131, -118.272783</td>\n",
              "      <td>33.964131</td>\n",
              "      <td>-118.272783</td>\n",
              "      <td>Male</td>\n",
              "      <td>...</td>\n",
              "      <td>Month-to-month</td>\n",
              "      <td>Yes</td>\n",
              "      <td>Mailed check</td>\n",
              "      <td>53.85</td>\n",
              "      <td>108.15</td>\n",
              "      <td>Yes</td>\n",
              "      <td>1</td>\n",
              "      <td>86</td>\n",
              "      <td>3239</td>\n",
              "      <td>Competitor made better offer</td>\n",
              "    </tr>\n",
              "    <tr>\n",
              "      <th>1</th>\n",
              "      <td>9237-HQITU</td>\n",
              "      <td>1</td>\n",
              "      <td>United States</td>\n",
              "      <td>California</td>\n",
              "      <td>Los Angeles</td>\n",
              "      <td>90005</td>\n",
              "      <td>34.059281, -118.30742</td>\n",
              "      <td>34.059281</td>\n",
              "      <td>-118.307420</td>\n",
              "      <td>Female</td>\n",
              "      <td>...</td>\n",
              "      <td>Month-to-month</td>\n",
              "      <td>Yes</td>\n",
              "      <td>Electronic check</td>\n",
              "      <td>70.70</td>\n",
              "      <td>151.65</td>\n",
              "      <td>Yes</td>\n",
              "      <td>1</td>\n",
              "      <td>67</td>\n",
              "      <td>2701</td>\n",
              "      <td>Moved</td>\n",
              "    </tr>\n",
              "    <tr>\n",
              "      <th>2</th>\n",
              "      <td>9305-CDSKC</td>\n",
              "      <td>1</td>\n",
              "      <td>United States</td>\n",
              "      <td>California</td>\n",
              "      <td>Los Angeles</td>\n",
              "      <td>90006</td>\n",
              "      <td>34.048013, -118.293953</td>\n",
              "      <td>34.048013</td>\n",
              "      <td>-118.293953</td>\n",
              "      <td>Female</td>\n",
              "      <td>...</td>\n",
              "      <td>Month-to-month</td>\n",
              "      <td>Yes</td>\n",
              "      <td>Electronic check</td>\n",
              "      <td>99.65</td>\n",
              "      <td>820.5</td>\n",
              "      <td>Yes</td>\n",
              "      <td>1</td>\n",
              "      <td>86</td>\n",
              "      <td>5372</td>\n",
              "      <td>Moved</td>\n",
              "    </tr>\n",
              "    <tr>\n",
              "      <th>3</th>\n",
              "      <td>7892-POOKP</td>\n",
              "      <td>1</td>\n",
              "      <td>United States</td>\n",
              "      <td>California</td>\n",
              "      <td>Los Angeles</td>\n",
              "      <td>90010</td>\n",
              "      <td>34.062125, -118.315709</td>\n",
              "      <td>34.062125</td>\n",
              "      <td>-118.315709</td>\n",
              "      <td>Female</td>\n",
              "      <td>...</td>\n",
              "      <td>Month-to-month</td>\n",
              "      <td>Yes</td>\n",
              "      <td>Electronic check</td>\n",
              "      <td>104.80</td>\n",
              "      <td>3046.05</td>\n",
              "      <td>Yes</td>\n",
              "      <td>1</td>\n",
              "      <td>84</td>\n",
              "      <td>5003</td>\n",
              "      <td>Moved</td>\n",
              "    </tr>\n",
              "    <tr>\n",
              "      <th>4</th>\n",
              "      <td>0280-XJGEX</td>\n",
              "      <td>1</td>\n",
              "      <td>United States</td>\n",
              "      <td>California</td>\n",
              "      <td>Los Angeles</td>\n",
              "      <td>90015</td>\n",
              "      <td>34.039224, -118.266293</td>\n",
              "      <td>34.039224</td>\n",
              "      <td>-118.266293</td>\n",
              "      <td>Male</td>\n",
              "      <td>...</td>\n",
              "      <td>Month-to-month</td>\n",
              "      <td>Yes</td>\n",
              "      <td>Bank transfer (automatic)</td>\n",
              "      <td>103.70</td>\n",
              "      <td>5036.3</td>\n",
              "      <td>Yes</td>\n",
              "      <td>1</td>\n",
              "      <td>89</td>\n",
              "      <td>5340</td>\n",
              "      <td>Competitor had better devices</td>\n",
              "    </tr>\n",
              "  </tbody>\n",
              "</table>\n",
              "<p>5 rows × 33 columns</p>\n",
              "</div>\n",
              "    <div class=\"colab-df-buttons\">\n",
              "\n",
              "  <div class=\"colab-df-container\">\n",
              "    <button class=\"colab-df-convert\" onclick=\"convertToInteractive('df-03edc428-bb7f-4011-9574-dc60e6a622af')\"\n",
              "            title=\"Convert this dataframe to an interactive table.\"\n",
              "            style=\"display:none;\">\n",
              "\n",
              "  <svg xmlns=\"http://www.w3.org/2000/svg\" height=\"24px\" viewBox=\"0 -960 960 960\">\n",
              "    <path d=\"M120-120v-720h720v720H120Zm60-500h600v-160H180v160Zm220 220h160v-160H400v160Zm0 220h160v-160H400v160ZM180-400h160v-160H180v160Zm440 0h160v-160H620v160ZM180-180h160v-160H180v160Zm440 0h160v-160H620v160Z\"/>\n",
              "  </svg>\n",
              "    </button>\n",
              "\n",
              "  <style>\n",
              "    .colab-df-container {\n",
              "      display:flex;\n",
              "      gap: 12px;\n",
              "    }\n",
              "\n",
              "    .colab-df-convert {\n",
              "      background-color: #E8F0FE;\n",
              "      border: none;\n",
              "      border-radius: 50%;\n",
              "      cursor: pointer;\n",
              "      display: none;\n",
              "      fill: #1967D2;\n",
              "      height: 32px;\n",
              "      padding: 0 0 0 0;\n",
              "      width: 32px;\n",
              "    }\n",
              "\n",
              "    .colab-df-convert:hover {\n",
              "      background-color: #E2EBFA;\n",
              "      box-shadow: 0px 1px 2px rgba(60, 64, 67, 0.3), 0px 1px 3px 1px rgba(60, 64, 67, 0.15);\n",
              "      fill: #174EA6;\n",
              "    }\n",
              "\n",
              "    .colab-df-buttons div {\n",
              "      margin-bottom: 4px;\n",
              "    }\n",
              "\n",
              "    [theme=dark] .colab-df-convert {\n",
              "      background-color: #3B4455;\n",
              "      fill: #D2E3FC;\n",
              "    }\n",
              "\n",
              "    [theme=dark] .colab-df-convert:hover {\n",
              "      background-color: #434B5C;\n",
              "      box-shadow: 0px 1px 3px 1px rgba(0, 0, 0, 0.15);\n",
              "      filter: drop-shadow(0px 1px 2px rgba(0, 0, 0, 0.3));\n",
              "      fill: #FFFFFF;\n",
              "    }\n",
              "  </style>\n",
              "\n",
              "    <script>\n",
              "      const buttonEl =\n",
              "        document.querySelector('#df-03edc428-bb7f-4011-9574-dc60e6a622af button.colab-df-convert');\n",
              "      buttonEl.style.display =\n",
              "        google.colab.kernel.accessAllowed ? 'block' : 'none';\n",
              "\n",
              "      async function convertToInteractive(key) {\n",
              "        const element = document.querySelector('#df-03edc428-bb7f-4011-9574-dc60e6a622af');\n",
              "        const dataTable =\n",
              "          await google.colab.kernel.invokeFunction('convertToInteractive',\n",
              "                                                    [key], {});\n",
              "        if (!dataTable) return;\n",
              "\n",
              "        const docLinkHtml = 'Like what you see? Visit the ' +\n",
              "          '<a target=\"_blank\" href=https://colab.research.google.com/notebooks/data_table.ipynb>data table notebook</a>'\n",
              "          + ' to learn more about interactive tables.';\n",
              "        element.innerHTML = '';\n",
              "        dataTable['output_type'] = 'display_data';\n",
              "        await google.colab.output.renderOutput(dataTable, element);\n",
              "        const docLink = document.createElement('div');\n",
              "        docLink.innerHTML = docLinkHtml;\n",
              "        element.appendChild(docLink);\n",
              "      }\n",
              "    </script>\n",
              "  </div>\n",
              "\n",
              "\n",
              "    <div id=\"df-3f04d2bc-6801-4079-b2e0-ead9405a3780\">\n",
              "      <button class=\"colab-df-quickchart\" onclick=\"quickchart('df-3f04d2bc-6801-4079-b2e0-ead9405a3780')\"\n",
              "                title=\"Suggest charts\"\n",
              "                style=\"display:none;\">\n",
              "\n",
              "<svg xmlns=\"http://www.w3.org/2000/svg\" height=\"24px\"viewBox=\"0 0 24 24\"\n",
              "     width=\"24px\">\n",
              "    <g>\n",
              "        <path d=\"M19 3H5c-1.1 0-2 .9-2 2v14c0 1.1.9 2 2 2h14c1.1 0 2-.9 2-2V5c0-1.1-.9-2-2-2zM9 17H7v-7h2v7zm4 0h-2V7h2v10zm4 0h-2v-4h2v4z\"/>\n",
              "    </g>\n",
              "</svg>\n",
              "      </button>\n",
              "\n",
              "<style>\n",
              "  .colab-df-quickchart {\n",
              "      --bg-color: #E8F0FE;\n",
              "      --fill-color: #1967D2;\n",
              "      --hover-bg-color: #E2EBFA;\n",
              "      --hover-fill-color: #174EA6;\n",
              "      --disabled-fill-color: #AAA;\n",
              "      --disabled-bg-color: #DDD;\n",
              "  }\n",
              "\n",
              "  [theme=dark] .colab-df-quickchart {\n",
              "      --bg-color: #3B4455;\n",
              "      --fill-color: #D2E3FC;\n",
              "      --hover-bg-color: #434B5C;\n",
              "      --hover-fill-color: #FFFFFF;\n",
              "      --disabled-bg-color: #3B4455;\n",
              "      --disabled-fill-color: #666;\n",
              "  }\n",
              "\n",
              "  .colab-df-quickchart {\n",
              "    background-color: var(--bg-color);\n",
              "    border: none;\n",
              "    border-radius: 50%;\n",
              "    cursor: pointer;\n",
              "    display: none;\n",
              "    fill: var(--fill-color);\n",
              "    height: 32px;\n",
              "    padding: 0;\n",
              "    width: 32px;\n",
              "  }\n",
              "\n",
              "  .colab-df-quickchart:hover {\n",
              "    background-color: var(--hover-bg-color);\n",
              "    box-shadow: 0 1px 2px rgba(60, 64, 67, 0.3), 0 1px 3px 1px rgba(60, 64, 67, 0.15);\n",
              "    fill: var(--button-hover-fill-color);\n",
              "  }\n",
              "\n",
              "  .colab-df-quickchart-complete:disabled,\n",
              "  .colab-df-quickchart-complete:disabled:hover {\n",
              "    background-color: var(--disabled-bg-color);\n",
              "    fill: var(--disabled-fill-color);\n",
              "    box-shadow: none;\n",
              "  }\n",
              "\n",
              "  .colab-df-spinner {\n",
              "    border: 2px solid var(--fill-color);\n",
              "    border-color: transparent;\n",
              "    border-bottom-color: var(--fill-color);\n",
              "    animation:\n",
              "      spin 1s steps(1) infinite;\n",
              "  }\n",
              "\n",
              "  @keyframes spin {\n",
              "    0% {\n",
              "      border-color: transparent;\n",
              "      border-bottom-color: var(--fill-color);\n",
              "      border-left-color: var(--fill-color);\n",
              "    }\n",
              "    20% {\n",
              "      border-color: transparent;\n",
              "      border-left-color: var(--fill-color);\n",
              "      border-top-color: var(--fill-color);\n",
              "    }\n",
              "    30% {\n",
              "      border-color: transparent;\n",
              "      border-left-color: var(--fill-color);\n",
              "      border-top-color: var(--fill-color);\n",
              "      border-right-color: var(--fill-color);\n",
              "    }\n",
              "    40% {\n",
              "      border-color: transparent;\n",
              "      border-right-color: var(--fill-color);\n",
              "      border-top-color: var(--fill-color);\n",
              "    }\n",
              "    60% {\n",
              "      border-color: transparent;\n",
              "      border-right-color: var(--fill-color);\n",
              "    }\n",
              "    80% {\n",
              "      border-color: transparent;\n",
              "      border-right-color: var(--fill-color);\n",
              "      border-bottom-color: var(--fill-color);\n",
              "    }\n",
              "    90% {\n",
              "      border-color: transparent;\n",
              "      border-bottom-color: var(--fill-color);\n",
              "    }\n",
              "  }\n",
              "</style>\n",
              "\n",
              "      <script>\n",
              "        async function quickchart(key) {\n",
              "          const quickchartButtonEl =\n",
              "            document.querySelector('#' + key + ' button');\n",
              "          quickchartButtonEl.disabled = true;  // To prevent multiple clicks.\n",
              "          quickchartButtonEl.classList.add('colab-df-spinner');\n",
              "          try {\n",
              "            const charts = await google.colab.kernel.invokeFunction(\n",
              "                'suggestCharts', [key], {});\n",
              "          } catch (error) {\n",
              "            console.error('Error during call to suggestCharts:', error);\n",
              "          }\n",
              "          quickchartButtonEl.classList.remove('colab-df-spinner');\n",
              "          quickchartButtonEl.classList.add('colab-df-quickchart-complete');\n",
              "        }\n",
              "        (() => {\n",
              "          let quickchartButtonEl =\n",
              "            document.querySelector('#df-3f04d2bc-6801-4079-b2e0-ead9405a3780 button');\n",
              "          quickchartButtonEl.style.display =\n",
              "            google.colab.kernel.accessAllowed ? 'block' : 'none';\n",
              "        })();\n",
              "      </script>\n",
              "    </div>\n",
              "\n",
              "    </div>\n",
              "  </div>\n"
            ],
            "application/vnd.google.colaboratory.intrinsic+json": {
              "type": "dataframe",
              "variable_name": "df"
            }
          },
          "metadata": {},
          "execution_count": 45
        }
      ]
    },
    {
      "cell_type": "code",
      "source": [
        "print(df.info())"
      ],
      "metadata": {
        "colab": {
          "base_uri": "https://localhost:8080/"
        },
        "id": "enEvlEVTQEUn",
        "outputId": "a6c0a307-1a20-4076-9002-bdd65f340124"
      },
      "execution_count": null,
      "outputs": [
        {
          "output_type": "stream",
          "name": "stdout",
          "text": [
            "<class 'pandas.core.frame.DataFrame'>\n",
            "RangeIndex: 7043 entries, 0 to 7042\n",
            "Data columns (total 33 columns):\n",
            " #   Column             Non-Null Count  Dtype  \n",
            "---  ------             --------------  -----  \n",
            " 0   CustomerID         7043 non-null   object \n",
            " 1   Count              7043 non-null   int64  \n",
            " 2   Country            7043 non-null   object \n",
            " 3   State              7043 non-null   object \n",
            " 4   City               7043 non-null   object \n",
            " 5   Zip Code           7043 non-null   int64  \n",
            " 6   Lat Long           7043 non-null   object \n",
            " 7   Latitude           7043 non-null   float64\n",
            " 8   Longitude          7043 non-null   float64\n",
            " 9   Gender             7043 non-null   object \n",
            " 10  Senior Citizen     7043 non-null   object \n",
            " 11  Partner            7043 non-null   object \n",
            " 12  Dependents         7043 non-null   object \n",
            " 13  Tenure Months      7043 non-null   int64  \n",
            " 14  Phone Service      7043 non-null   object \n",
            " 15  Multiple Lines     7043 non-null   object \n",
            " 16  Internet Service   7043 non-null   object \n",
            " 17  Online Security    7043 non-null   object \n",
            " 18  Online Backup      7043 non-null   object \n",
            " 19  Device Protection  7043 non-null   object \n",
            " 20  Tech Support       7043 non-null   object \n",
            " 21  Streaming TV       7043 non-null   object \n",
            " 22  Streaming Movies   7043 non-null   object \n",
            " 23  Contract           7043 non-null   object \n",
            " 24  Paperless Billing  7043 non-null   object \n",
            " 25  Payment Method     7043 non-null   object \n",
            " 26  Monthly Charges    7043 non-null   float64\n",
            " 27  Total Charges      7043 non-null   object \n",
            " 28  Churn Label        7043 non-null   object \n",
            " 29  Churn Value        7043 non-null   int64  \n",
            " 30  Churn Score        7043 non-null   int64  \n",
            " 31  CLTV               7043 non-null   int64  \n",
            " 32  Churn Reason       1869 non-null   object \n",
            "dtypes: float64(3), int64(6), object(24)\n",
            "memory usage: 1.8+ MB\n",
            "None\n"
          ]
        }
      ]
    },
    {
      "cell_type": "code",
      "source": [
        "df[\"Total Charges\"] = pd.to_numeric(df[\"Total Charges\"], errors=\"coerce\")\n",
        "\n",
        "#Заполним NaN используя логику Total Charges = Monthly Charges * Tenure Months\n",
        "mask = df[\"Total Charges\"].isna()\n",
        "df.loc[mask, \"Total Charges\"] = df.loc[mask, \"Monthly Charges\"] * df.loc[mask, \"Tenure Months\"]\n",
        "print(\"NaN в Total Charges после обработки:\", df[\"Total Charges\"].isna().sum())"
      ],
      "metadata": {
        "colab": {
          "base_uri": "https://localhost:8080/"
        },
        "id": "pAnOta21CmYy",
        "outputId": "85809577-0b88-4573-f9a5-1b23f6143d03"
      },
      "execution_count": null,
      "outputs": [
        {
          "output_type": "stream",
          "name": "stdout",
          "text": [
            "NaN в Total Charges после обработки: 0\n"
          ]
        }
      ]
    },
    {
      "cell_type": "code",
      "source": [
        "\n",
        "drop_cols = [\"CustomerID\", \"Country\", \"State\", \"City\", \"Zip Code\", \"Lat Long\"]\n",
        "df.drop(columns=drop_cols, inplace=True, errors=\"ignore\")\n",
        "print(\"Удалены колонки:\", drop_cols)\n",
        "print(\"NEW shape:\", df.shape)\n"
      ],
      "metadata": {
        "colab": {
          "base_uri": "https://localhost:8080/"
        },
        "id": "rb1ioNf6CoOr",
        "outputId": "d1dd7fd3-c762-4ed5-b059-b27a285b64e7"
      },
      "execution_count": null,
      "outputs": [
        {
          "output_type": "stream",
          "name": "stdout",
          "text": [
            "Удалены колонки: ['CustomerID', 'Country', 'State', 'City', 'Zip Code', 'Lat Long']\n",
            "NEW shape: (7043, 27)\n"
          ]
        }
      ]
    },
    {
      "cell_type": "code",
      "source": [
        "# Проверим целевую переменную\n",
        "print(\"Распределение Churn Value:\\n\", df[\"Churn Value\"].value_counts())\n"
      ],
      "metadata": {
        "colab": {
          "base_uri": "https://localhost:8080/"
        },
        "id": "TFYqQou9Cp_i",
        "outputId": "f63fe10d-5287-43ca-8314-c7d78e12db78"
      },
      "execution_count": null,
      "outputs": [
        {
          "output_type": "stream",
          "name": "stdout",
          "text": [
            "Распределение Churn Value:\n",
            " Churn Value\n",
            "0    5174\n",
            "1    1869\n",
            "Name: count, dtype: int64\n"
          ]
        }
      ]
    },
    {
      "cell_type": "code",
      "source": [
        "import matplotlib.pyplot as plt\n",
        "import seaborn as sns\n",
        "\n",
        "#Распределение целевой переменной\n",
        "sns.countplot(x=\"Churn Value\", data=df)\n",
        "plt.title(\"Распределение целевой переменной (Churn Value)\")\n",
        "plt.show()"
      ],
      "metadata": {
        "colab": {
          "base_uri": "https://localhost:8080/",
          "height": 472
        },
        "id": "uI7NDZo8Cwip",
        "outputId": "e86073de-8a39-4fb8-eca0-267c4ca801f9"
      },
      "execution_count": null,
      "outputs": [
        {
          "output_type": "display_data",
          "data": {
            "text/plain": [
              "<Figure size 640x480 with 1 Axes>"
            ],
            "image/png": "[encoded data removed]"
          },
          "metadata": {}
        }
      ]
    },
    {
      "cell_type": "code",
      "source": [
        "\n",
        "#Проверим числовые признаки\n",
        "num_cols = df.select_dtypes(include=[\"int64\", \"float64\"]).columns.tolist()\n",
        "print(\"Числовые признаки:\", num_cols)\n",
        "\n",
        "df[num_cols].hist(figsize=(12, 10))\n",
        "plt.suptitle(\"Распределение числовых признаков\")\n",
        "plt.show()\n"
      ],
      "metadata": {
        "colab": {
          "base_uri": "https://localhost:8080/",
          "height": 948
        },
        "id": "aADcOnYLCxMZ",
        "outputId": "4de7d419-e482-4c47-d95e-7a9b2887e5a4"
      },
      "execution_count": null,
      "outputs": [
        {
          "output_type": "stream",
          "name": "stdout",
          "text": [
            "Числовые признаки: ['Count', 'Latitude', 'Longitude', 'Tenure Months', 'Monthly Charges', 'Total Charges', 'Churn Value', 'Churn Score', 'CLTV']\n"
          ]
        },
        {
          "output_type": "display_data",
          "data": {
            "text/plain": [
              "<Figure size 1200x1000 with 9 Axes>"
            ],
            "image/png": "[encoded data removed]"
          },
          "metadata": {}
        }
      ]
    },
    {
      "cell_type": "code",
      "source": [
        "\n",
        "#Проверим категориальные признаки\n",
        "cat_cols = df.select_dtypes(include=[\"object\"]).columns.tolist()\n",
        "print(\"Категориальные признаки:\", cat_cols[:10])\n",
        "\n",
        "# Пример: Contract vs Churn\n",
        "sns.countplot(x=\"Contract\", hue=\"Churn Value\", data=df)\n",
        "plt.title(\"Зависимость от типа контракта\")\n",
        "plt.show()\n"
      ],
      "metadata": {
        "colab": {
          "base_uri": "https://localhost:8080/",
          "height": 490
        },
        "id": "OP3WoFMAdLbK",
        "outputId": "3ea3d6b4-0dec-4f81-e76d-cccb36b9f7cd"
      },
      "execution_count": null,
      "outputs": [
        {
          "output_type": "stream",
          "name": "stdout",
          "text": [
            "Категориальные признаки: ['Gender', 'Senior Citizen', 'Partner', 'Dependents', 'Phone Service', 'Multiple Lines', 'Internet Service', 'Online Security', 'Online Backup', 'Device Protection'] ...\n"
          ]
        },
        {
          "output_type": "display_data",
          "data": {
            "text/plain": [
              "<Figure size 640x480 with 1 Axes>"
            ],
            "image/png": "[encoded data removed]"
          },
          "metadata": {}
        }
      ]
    },
    {
      "cell_type": "code",
      "source": [
        "import pandas as pd\n",
        "from sklearn.model_selection import train_test_split\n",
        "from sklearn.linear_model import LogisticRegression\n",
        "from sklearn.metrics import accuracy_score, precision_score, recall_score, f1_score, roc_auc_score\n",
        "from sklearn.preprocessing import StandardScaler, OneHotEncoder\n",
        "from sklearn.compose import ColumnTransformer\n",
        "\n",
        "X = df.drop([\"Churn Value\", \"Churn Label\", \"Churn Score\", \"CLTV\", \"Churn Reason\"], axis=1)\n",
        "y = df[\"Churn Value\"]\n",
        "\n",
        "num_cols = ['Count', 'Latitude', 'Longitude', 'Tenure Months', 'Monthly Charges', 'Total Charges']\n",
        "cat_cols = [col for col in X.columns if col not in num_cols]\n",
        "\n",
        "preprocessor = ColumnTransformer(\n",
        "    transformers=[\n",
        "        ('num', StandardScaler(), num_cols),\n",
        "        ('cat', OneHotEncoder(drop='first', sparse_output=False), cat_cols)\n",
        "    ]\n",
        ")\n",
        "\n",
        "X_transformed = preprocessor.fit_transform(X)\n",
        "print(\"Форма X после One-Hot Encoding и нормализации:\", X_transformed.shape)\n",
        "\n",
        "X_train, X_test, y_train, y_test = train_test_split(X_transformed, y, test_size=0.2, random_state=42, stratify=y)\n",
        "\n",
        "model = LogisticRegression(max_iter=1000, solver='lbfgs')\n",
        "model.fit(X_train, y_train)\n",
        "\n",
        "y_pred = model.predict(X_test)\n",
        "y_prob = model.predict_proba(X_test)[:,1]\n",
        "\n",
        "#Метрики\n",
        "print(\"Accuracy:\", accuracy_score(y_test, y_pred))\n",
        "print(\"Precision:\", precision_score(y_test, y_pred))\n",
        "print(\"Recall:\", recall_score(y_test, y_pred))\n",
        "print(\"F1-score:\", f1_score(y_test, y_pred))\n",
        "print(\"ROC-AUC:\", roc_auc_score(y_test, y_prob))\n"
      ],
      "metadata": {
        "colab": {
          "base_uri": "https://localhost:8080/"
        },
        "id": "yR3Ka6NgdREC",
        "outputId": "956917d5-50a7-4920-fb87-f7893d1de1c8"
      },
      "execution_count": null,
      "outputs": [
        {
          "output_type": "stream",
          "name": "stdout",
          "text": [
            "Форма X после One-Hot Encoding и нормализации: (7043, 33)\n",
            "Accuracy: 0.8019872249822569\n",
            "Precision: 0.6426426426426426\n",
            "Recall: 0.5721925133689839\n",
            "F1-score: 0.6053748231966054\n",
            "ROC-AUC: 0.8480560076468004\n"
          ]
        }
      ]
    },
    {
      "cell_type": "code",
      "source": [
        "from sklearn.ensemble import RandomForestClassifier\n",
        "from sklearn.model_selection import GridSearchCV\n",
        "\n",
        "rf = RandomForestClassifier(random_state=42)\n",
        "\n",
        "param_grid_rf = {\n",
        "    'n_estimators': [100, 200],\n",
        "    'max_depth': [None, 10, 20],\n",
        "    'min_samples_split': [2, 5],\n",
        "    'min_samples_leaf': [1, 2]\n",
        "}\n",
        "\n",
        "grid_rf = GridSearchCV(rf, param_grid_rf, cv=3, scoring='f1', n_jobs=-1)\n",
        "grid_rf.fit(X_train, y_train)\n",
        "\n",
        "print(\"Лучшие параметры RandomForest:\", grid_rf.best_params_)\n",
        "\n",
        "y_pred_rf = grid_rf.predict(X_test)\n",
        "y_prob_rf = grid_rf.predict_proba(X_test)[:,1]\n",
        "\n",
        "print(\"RandomForest - Accuracy:\", accuracy_score(y_test, y_pred_rf))\n",
        "print(\"RandomForest - Precision:\", precision_score(y_test, y_pred_rf))\n",
        "print(\"RandomForest - Recall:\", recall_score(y_test, y_pred_rf))\n",
        "print(\"RandomForest - F1-score:\", f1_score(y_test, y_pred_rf))\n",
        "print(\"RandomForest - ROC-AUC:\", roc_auc_score(y_test, y_prob_rf))\n"
      ],
      "metadata": {
        "colab": {
          "base_uri": "https://localhost:8080/"
        },
        "id": "6Sfs_3_YevMX",
        "outputId": "158a99b6-5abe-4732-c541-921acea1cdb8"
      },
      "execution_count": null,
      "outputs": [
        {
          "output_type": "stream",
          "name": "stdout",
          "text": [
            "Лучшие параметры RandomForest: {'max_depth': 10, 'min_samples_leaf': 2, 'min_samples_split': 2, 'n_estimators': 100}\n",
            "RandomForest - Accuracy: 0.8062455642299503\n",
            "RandomForest - Precision: 0.6711864406779661\n",
            "RandomForest - Recall: 0.5294117647058824\n",
            "RandomForest - F1-score: 0.5919282511210763\n",
            "RandomForest - ROC-AUC: 0.8500297088532381\n"
          ]
        }
      ]
    },
    {
      "cell_type": "code",
      "source": [
        "from xgboost import XGBClassifier\n",
        "\n",
        "xgb = XGBClassifier(use_label_encoder=False, eval_metric='logloss', random_state=42)\n",
        "\n",
        "param_grid_xgb = {\n",
        "    'n_estimators': [100, 200],\n",
        "    'max_depth': [3, 5, 7],\n",
        "    'learning_rate': [0.01, 0.1, 0.2],\n",
        "    'subsample': [0.7, 1.0]\n",
        "}\n",
        "\n",
        "grid_xgb = GridSearchCV(xgb, param_grid_xgb, cv=3, scoring='f1', n_jobs=-1)\n",
        "grid_xgb.fit(X_train, y_train)\n",
        "\n",
        "print(\"Лучшие параметры XGBoost:\", grid_xgb.best_params_)\n",
        "\n",
        "y_pred_xgb = grid_xgb.predict(X_test)\n",
        "y_prob_xgb = grid_xgb.predict_proba(X_test)[:,1]\n",
        "\n",
        "print(\"XGBoost - Accuracy:\", accuracy_score(y_test, y_pred_xgb))\n",
        "print(\"XGBoost - Precision:\", precision_score(y_test, y_pred_xgb))\n",
        "print(\"XGBoost - Recall:\", recall_score(y_test, y_pred_xgb))\n",
        "print(\"XGBoost - F1-score:\", f1_score(y_test, y_pred_xgb))\n",
        "print(\"XGBoost - ROC-AUC:\", roc_auc_score(y_test, y_prob_xgb))\n"
      ],
      "metadata": {
        "colab": {
          "base_uri": "https://localhost:8080/"
        },
        "id": "278TZDtRexWg",
        "outputId": "793a6463-9e62-4470-a383-a92f45a5fa88"
      },
      "execution_count": null,
      "outputs": [
        {
          "output_type": "stream",
          "name": "stdout",
          "text": [
            "Лучшие параметры XGBoost: {'learning_rate': 0.1, 'max_depth': 3, 'n_estimators': 100, 'subsample': 1.0}\n",
            "XGBoost - Accuracy: 0.8019872249822569\n",
            "XGBoost - Precision: 0.6557377049180327\n",
            "XGBoost - Recall: 0.5347593582887701\n",
            "XGBoost - F1-score: 0.5891016200294551\n",
            "XGBoost - ROC-AUC: 0.849035108114392\n"
          ]
        },
        {
          "output_type": "stream",
          "name": "stderr",
          "text": [
            "/usr/local/lib/python3.12/dist-packages/xgboost/training.py:183: UserWarning: [11:08:20] WARNING: /workspace/src/learner.cc:738: \n",
            "Parameters: { \"use_label_encoder\" } are not used.\n",
            "\n",
            "  bst.update(dtrain, iteration=i, fobj=obj)\n"
          ]
        }
      ]
    },
    {
      "cell_type": "code",
      "source": [
        "!pip install catboost"
      ],
      "metadata": {
        "colab": {
          "base_uri": "https://localhost:8080/"
        },
        "id": "hhAm7bkjfmcU",
        "outputId": "882bccf4-098b-44c4-e227-933bd2e01dfc"
      },
      "execution_count": null,
      "outputs": [
        {
          "output_type": "stream",
          "name": "stdout",
          "text": [
            "Requirement already satisfied: catboost in /usr/local/lib/python3.12/dist-packages (1.2.8)\n",
            "Requirement already satisfied: graphviz in /usr/local/lib/python3.12/dist-packages (from catboost) (0.21)\n",
            "Requirement already satisfied: matplotlib in /usr/local/lib/python3.12/dist-packages (from catboost) (3.10.0)\n",
            "Requirement already satisfied: numpy<3.0,>=1.16.0 in /usr/local/lib/python3.12/dist-packages (from catboost) (2.0.2)\n",
            "Requirement already satisfied: pandas>=0.24 in /usr/local/lib/python3.12/dist-packages (from catboost) (2.2.2)\n",
            "Requirement already satisfied: scipy in /usr/local/lib/python3.12/dist-packages (from catboost) (1.16.1)\n",
            "Requirement already satisfied: plotly in /usr/local/lib/python3.12/dist-packages (from catboost) (5.24.1)\n",
            "Requirement already satisfied: six in /usr/local/lib/python3.12/dist-packages (from catboost) (1.17.0)\n",
            "Requirement already satisfied: python-dateutil>=2.8.2 in /usr/local/lib/python3.12/dist-packages (from pandas>=0.24->catboost) (2.9.0.post0)\n",
            "Requirement already satisfied: pytz>=2020.1 in /usr/local/lib/python3.12/dist-packages (from pandas>=0.24->catboost) (2025.2)\n",
            "Requirement already satisfied: tzdata>=2022.7 in /usr/local/lib/python3.12/dist-packages (from pandas>=0.24->catboost) (2025.2)\n",
            "Requirement already satisfied: contourpy>=1.0.1 in /usr/local/lib/python3.12/dist-packages (from matplotlib->catboost) (1.3.3)\n",
            "Requirement already satisfied: cycler>=0.10 in /usr/local/lib/python3.12/dist-packages (from matplotlib->catboost) (0.12.1)\n",
            "Requirement already satisfied: fonttools>=4.22.0 in /usr/local/lib/python3.12/dist-packages (from matplotlib->catboost) (4.59.1)\n",
            "Requirement already satisfied: kiwisolver>=1.3.1 in /usr/local/lib/python3.12/dist-packages (from matplotlib->catboost) (1.4.9)\n",
            "Requirement already satisfied: packaging>=20.0 in /usr/local/lib/python3.12/dist-packages (from matplotlib->catboost) (25.0)\n",
            "Requirement already satisfied: pillow>=8 in /usr/local/lib/python3.12/dist-packages (from matplotlib->catboost) (11.3.0)\n",
            "Requirement already satisfied: pyparsing>=2.3.1 in /usr/local/lib/python3.12/dist-packages (from matplotlib->catboost) (3.2.3)\n",
            "Requirement already satisfied: tenacity>=6.2.0 in /usr/local/lib/python3.12/dist-packages (from plotly->catboost) (8.5.0)\n"
          ]
        }
      ]
    },
    {
      "cell_type": "code",
      "source": [
        "from catboost import CatBoostClassifier\n",
        "from sklearn.model_selection import GridSearchCV\n",
        "\n",
        "cat = CatBoostClassifier(random_state=42, verbose=0)\n",
        "\n",
        "param_grid_cat = {\n",
        "    'iterations': [100, 200],\n",
        "    'depth': [4, 6, 8],\n",
        "    'learning_rate': [0.01, 0.1, 0.2],\n",
        "    'l2_leaf_reg': [1, 3, 5]\n",
        "}\n",
        "\n",
        "grid_cat = GridSearchCV(cat, param_grid_cat, cv=3, scoring='f1', n_jobs=-1)\n",
        "grid_cat.fit(X_train, y_train)\n",
        "\n",
        "print(\"Лучшие параметры CatBoost:\", grid_cat.best_params_)\n",
        "\n",
        "y_pred_cat = grid_cat.predict(X_test)\n",
        "y_prob_cat = grid_cat.predict_proba(X_test)[:,1]\n",
        "\n",
        "print(\"CatBoost - Accuracy:\", accuracy_score(y_test, y_pred_cat))\n",
        "print(\"CatBoost - Precision:\", precision_score(y_test, y_pred_cat))\n",
        "print(\"CatBoost - Recall:\", recall_score(y_test, y_pred_cat))\n",
        "print(\"CatBoost - F1-score:\", f1_score(y_test, y_pred_cat))\n",
        "print(\"CatBoost - ROC-AUC:\", roc_auc_score(y_test, y_prob_cat))\n"
      ],
      "metadata": {
        "colab": {
          "base_uri": "https://localhost:8080/"
        },
        "id": "XNrFmbtQfi93",
        "outputId": "dfa7dd66-f950-4754-8d8d-9bcc7ed6c5fa"
      },
      "execution_count": null,
      "outputs": [
        {
          "output_type": "stream",
          "name": "stdout",
          "text": [
            "Лучшие параметры CatBoost: {'depth': 4, 'iterations': 100, 'l2_leaf_reg': 5, 'learning_rate': 0.1}\n",
            "CatBoost - Accuracy: 0.8026969481902059\n",
            "CatBoost - Precision: 0.6589403973509934\n",
            "CatBoost - Recall: 0.5320855614973262\n",
            "CatBoost - F1-score: 0.5887573964497042\n",
            "CatBoost - ROC-AUC: 0.8557131416466455\n"
          ]
        }
      ]
    },
    {
      "cell_type": "code",
      "source": [
        "from sklearn.ensemble import StackingClassifier\n",
        "from sklearn.linear_model import LogisticRegression\n",
        "\n",
        "rf_best = RandomForestClassifier(\n",
        "    n_estimators=100, max_depth=10, min_samples_split=2, min_samples_leaf=2, random_state=42\n",
        ")\n",
        "\n",
        "xgb_best = XGBClassifier(\n",
        "    n_estimators=100, max_depth=3, learning_rate=0.1, subsample=1.0,\n",
        "    use_label_encoder=False, eval_metric='logloss', random_state=42\n",
        ")\n",
        "\n",
        "cat_best = CatBoostClassifier(\n",
        "    iterations=100, depth=4, learning_rate=0.1, l2_leaf_reg=5,\n",
        "    verbose=0, random_state=42\n",
        ")\n",
        "\n",
        "stack = StackingClassifier(\n",
        "    estimators=[('rf', rf_best), ('xgb', xgb_best), ('cat', cat_best)],\n",
        "    final_estimator=LogisticRegression(max_iter=1000),\n",
        "    cv=3,\n",
        "    n_jobs=-1\n",
        ")\n",
        "\n",
        "stack.fit(X_train, y_train)\n",
        "\n",
        "y_pred_stack = stack.predict(X_test)\n",
        "y_prob_stack = stack.predict_proba(X_test)[:,1]\n",
        "\n",
        "print(\"Stacking - Accuracy:\", accuracy_score(y_test, y_pred_stack))\n",
        "print(\"Stacking - Precision:\", precision_score(y_test, y_pred_stack))\n",
        "print(\"Stacking - Recall:\", recall_score(y_test, y_pred_stack))\n",
        "print(\"Stacking - F1-score:\", f1_score(y_test, y_pred_stack))\n",
        "print(\"Stacking - ROC-AUC:\", roc_auc_score(y_test, y_prob_stack))\n"
      ],
      "metadata": {
        "colab": {
          "base_uri": "https://localhost:8080/"
        },
        "id": "rnjUcTMJg3ZI",
        "outputId": "175c5740-225f-4ef3-ed88-21bf72fa1839"
      },
      "execution_count": null,
      "outputs": [
        {
          "output_type": "stream",
          "name": "stdout",
          "text": [
            "Stacking - Accuracy: 0.8041163946061036\n",
            "Stacking - Precision: 0.6633333333333333\n",
            "Stacking - Recall: 0.5320855614973262\n",
            "Stacking - F1-score: 0.5905044510385756\n",
            "Stacking - ROC-AUC: 0.8538737761244155\n"
          ]
        }
      ]
    },
    {
      "cell_type": "code",
      "source": [
        "# import pandas as pd\n",
        "# from sklearn.model_selection import train_test_split, GridSearchCV\n",
        "# from sklearn.linear_model import LogisticRegression\n",
        "# from sklearn.metrics import accuracy_score, precision_score, recall_score, f1_score, roc_auc_score\n",
        "\n",
        "# from sklearn.ensemble import RandomForestClassifier, StackingClassifier\n",
        "# from xgboost import XGBClassifier\n",
        "# from catboost import CatBoostClassifier\n",
        "\n",
        "\n",
        "# X = df.drop(\"Churn Value\", axis=1)\n",
        "# y = df[\"Churn Value\"]\n",
        "\n",
        "# X = pd.get_dummies(X, drop_first=True)\n",
        "\n",
        "# X_train, X_test, y_train, y_test = train_test_split(\n",
        "#     X, y, test_size=0.2, random_state=42, stratify=y\n",
        "# )\n",
        "\n",
        "\n",
        "# rf = RandomForestClassifier(random_state=42)\n",
        "# xgb = XGBClassifier(use_label_encoder=False, eval_metric='logloss', random_state=42)\n",
        "# cat = CatBoostClassifier(verbose=0, random_state=42)\n",
        "\n",
        "\n",
        "# stack = StackingClassifier(\n",
        "#     estimators=[('rf', rf), ('xgb', xgb), ('cat', cat)],\n",
        "#     final_estimator=LogisticRegression(max_iter=1000),\n",
        "#     cv=3,\n",
        "#     n_jobs=-1\n",
        "# )\n",
        "\n",
        "# param_grid_stack = {\n",
        "#     'rf__n_estimators': [100, 200],\n",
        "#     'rf__max_depth': [10, 20],\n",
        "#     'xgb__max_depth': [3, 5],\n",
        "#     'xgb__learning_rate': [0.05, 0.1],\n",
        "#     'cat__depth': [4, 6],\n",
        "#     'cat__learning_rate': [0.05, 0.1]\n",
        "# }\n",
        "\n",
        "\n",
        "# grid_stack = GridSearchCV(stack, param_grid_stack, cv=3, scoring='f1', n_jobs=-1)\n",
        "# grid_stack.fit(X_train, y_train)\n",
        "\n",
        "\n",
        "# print(\"Лучшие параметры Stacking:\", grid_stack.best_params_)\n",
        "\n",
        "# y_pred_stack_best = grid_stack.predict(X_test)\n",
        "# y_prob_stack_best = grid_stack.predict_proba(X_test)[:,1]\n",
        "\n",
        "# print(\"Stacking (Grid) - Accuracy:\", accuracy_score(y_test, y_pred_stack_best))\n",
        "# print(\"Stacking (Grid) - Precision:\", precision_score(y_test, y_pred_stack_best))\n",
        "# print(\"Stacking (Grid) - Recall:\", recall_score(y_test, y_pred_stack_best))\n",
        "# print(\"Stacking (Grid) - F1-score:\", f1_score(y_test, y_pred_stack_best))\n",
        "# print(\"Stacking (Grid) - ROC-AUC:\", roc_auc_score(y_test, y_prob_stack_best))\n"
      ],
      "metadata": {
        "id": "ILET0Wg5hOKU"
      },
      "execution_count": null,
      "outputs": []
    }
  ]
}